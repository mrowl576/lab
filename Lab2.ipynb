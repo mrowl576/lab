{
  "cells": [
    {
      "cell_type": "code",
      "execution_count": null,
      "metadata": {
        "id": "SGFQgiFOlkTp"
      },
      "outputs": [],
      "source": [
        "import pandas as pd\n",
        "from sklearn.model_selection import train_test_split, GridSearchCV\n",
        "from sklearn.compose import ColumnTransformer\n",
        "from sklearn.pipeline import Pipeline\n",
        "from sklearn.impute import SimpleImputer\n",
        "from sklearn.preprocessing import StandardScaler, OneHotEncoder\n",
        "from xgboost import XGBRegressor"
      ]
    },
    {
      "cell_type": "code",
      "execution_count": null,
      "metadata": {
        "colab": {
          "base_uri": "https://localhost:8080/"
        },
        "id": "SyR8E0lOlvmA",
        "outputId": "07d29d82-b261-44bc-dd30-65028c8ab5b8"
      },
      "outputs": [
        {
          "output_type": "stream",
          "name": "stdout",
          "text": [
            "Drive already mounted at /content/drive/; to attempt to forcibly remount, call drive.mount(\"/content/drive/\", force_remount=True).\n"
          ]
        }
      ],
      "source": [
        "from google.colab import drive\n",
        "drive.mount('/content/drive/')"
      ]
    },
    {
      "cell_type": "code",
      "execution_count": null,
      "metadata": {
        "colab": {
          "base_uri": "https://localhost:8080/"
        },
        "id": "dSe2V5Zfl-iK",
        "outputId": "e51bfbf5-952a-4877-81e4-1e304b265b0d"
      },
      "outputs": [
        {
          "output_type": "stream",
          "name": "stdout",
          "text": [
            "/content/drive/MyDrive\n"
          ]
        }
      ],
      "source": [
        "%cd /content/drive/MyDrive\n",
        "df = pd.read_csv('/content/drive/MyDrive/Laptop_price.csv')"
      ]
    },
    {
      "cell_type": "code",
      "execution_count": null,
      "metadata": {
        "id": "jJyH4XdKmGPR"
      },
      "outputs": [],
      "source": [
        "X = df.drop('Price', axis=1)\n",
        "y = df['Price']"
      ]
    },
    {
      "cell_type": "code",
      "execution_count": null,
      "metadata": {
        "id": "qkmUoeJpmHye"
      },
      "outputs": [],
      "source": [
        "X_train, X_test, y_train, y_test = train_test_split(X, y, test_size=0.2, random_state=42)"
      ]
    },
    {
      "cell_type": "code",
      "execution_count": null,
      "metadata": {
        "id": "TVWm0H1GmI0m"
      },
      "outputs": [],
      "source": [
        "categoricalFeatures = X.select_dtypes(include=['object']).columns.tolist()\n",
        "numericalFeatures = X.select_dtypes(include=['int64', 'float64']).columns.tolist()"
      ]
    },
    {
      "cell_type": "code",
      "execution_count": null,
      "metadata": {
        "id": "pKRBLrCqmKl7"
      },
      "outputs": [],
      "source": [
        "numericalTransformer = Pipeline(steps=[\n",
        "    ('imputer', SimpleImputer(strategy='mean')),\n",
        "    ('scaler', StandardScaler())\n",
        "])\n",
        "\n",
        "categoricalTransformer = Pipeline(steps=[\n",
        "    ('imputer', SimpleImputer(strategy='most_frequent')),\n",
        "    ('onehot', OneHotEncoder(handle_unknown='ignore'))\n",
        "])"
      ]
    },
    {
      "cell_type": "code",
      "execution_count": null,
      "metadata": {
        "id": "EIVSamFkmNsF"
      },
      "outputs": [],
      "source": [
        "preprocessor = ColumnTransformer(\n",
        "    transformers=[\n",
        "        ('num', numericalTransformer, numericalFeatures),\n",
        "        ('cat', categoricalTransformer, categoricalFeatures)\n",
        "    ])"
      ]
    },
    {
      "cell_type": "code",
      "execution_count": null,
      "metadata": {
        "id": "TFsUoePPmOln"
      },
      "outputs": [],
      "source": [
        "pipeline = Pipeline(steps=[\n",
        "    ('preprocessor', preprocessor),\n",
        "    ('mod', XGBRegressor(random_state=37))\n",
        "])"
      ]
    },
    {
      "cell_type": "code",
      "execution_count": null,
      "metadata": {
        "id": "kdVgnuLCmPgF"
      },
      "outputs": [],
      "source": [
        "param = {\n",
        "    'mod__n_estimators': [50, 100, 200],\n",
        "    'mod__learning_rate': [0.01, 0.1, 0.2],\n",
        "    'mod__max_depth': [4, 6, 8],\n",
        "    'mod__gamma': [0, 0.2, 0.3],\n",
        "    'mod__subsample': [0.8, 1.0]\n",
        "}"
      ]
    },
    {
      "cell_type": "code",
      "execution_count": null,
      "metadata": {
        "id": "T3leupJ8mQnf"
      },
      "outputs": [],
      "source": [
        "gridSearch = GridSearchCV(pipeline, param, cv=5, n_jobs=-1, verbose=2)"
      ]
    },
    {
      "cell_type": "code",
      "execution_count": null,
      "metadata": {
        "colab": {
          "base_uri": "https://localhost:8080/",
          "height": 270
        },
        "id": "b7slk1IFmRmb",
        "outputId": "c4744a19-f9db-419e-f9af-2f662db6359b",
        "collapsed": true
      },
      "outputs": [
        {
          "output_type": "stream",
          "name": "stdout",
          "text": [
            "Fitting 5 folds for each of 162 candidates, totalling 810 fits\n"
          ]
        },
        {
          "output_type": "execute_result",
          "data": {
            "text/plain": [
              "GridSearchCV(cv=5,\n",
              "             estimator=Pipeline(steps=[('preprocessor',\n",
              "                                        ColumnTransformer(transformers=[('num',\n",
              "                                                                         Pipeline(steps=[('imputer',\n",
              "                                                                                          SimpleImputer()),\n",
              "                                                                                         ('scaler',\n",
              "                                                                                          StandardScaler())]),\n",
              "                                                                         ['Processor_Speed',\n",
              "                                                                          'RAM_Size',\n",
              "                                                                          'Storage_Capacity',\n",
              "                                                                          'Screen_Size',\n",
              "                                                                          'Weight']),\n",
              "                                                                        ('cat',\n",
              "                                                                         Pipeline(steps=[('imputer',\n",
              "                                                                                          SimpleImputer(strategy='most_frequent')),\n",
              "                                                                                         ('onehot',\n",
              "                                                                                          OneHotEncoder(hand...\n",
              "                                                     max_leaves=None,\n",
              "                                                     min_child_weight=None,\n",
              "                                                     missing=nan,\n",
              "                                                     monotone_constraints=None,\n",
              "                                                     multi_strategy=None,\n",
              "                                                     n_estimators=None,\n",
              "                                                     n_jobs=None,\n",
              "                                                     num_parallel_tree=None,\n",
              "                                                     random_state=37, ...))]),\n",
              "             n_jobs=-1,\n",
              "             param_grid={'mod__gamma': [0, 0.2, 0.3],\n",
              "                         'mod__learning_rate': [0.01, 0.1, 0.2],\n",
              "                         'mod__max_depth': [4, 6, 8],\n",
              "                         'mod__n_estimators': [50, 100, 200],\n",
              "                         'mod__subsample': [0.8, 1.0]},\n",
              "             verbose=2)"
            ],
            "text/html": [
              "<style>#sk-container-id-4 {color: black;background-color: white;}#sk-container-id-4 pre{padding: 0;}#sk-container-id-4 div.sk-toggleable {background-color: white;}#sk-container-id-4 label.sk-toggleable__label {cursor: pointer;display: block;width: 100%;margin-bottom: 0;padding: 0.3em;box-sizing: border-box;text-align: center;}#sk-container-id-4 label.sk-toggleable__label-arrow:before {content: \"▸\";float: left;margin-right: 0.25em;color: #696969;}#sk-container-id-4 label.sk-toggleable__label-arrow:hover:before {color: black;}#sk-container-id-4 div.sk-estimator:hover label.sk-toggleable__label-arrow:before {color: black;}#sk-container-id-4 div.sk-toggleable__content {max-height: 0;max-width: 0;overflow: hidden;text-align: left;background-color: #f0f8ff;}#sk-container-id-4 div.sk-toggleable__content pre {margin: 0.2em;color: black;border-radius: 0.25em;background-color: #f0f8ff;}#sk-container-id-4 input.sk-toggleable__control:checked~div.sk-toggleable__content {max-height: 200px;max-width: 100%;overflow: auto;}#sk-container-id-4 input.sk-toggleable__control:checked~label.sk-toggleable__label-arrow:before {content: \"▾\";}#sk-container-id-4 div.sk-estimator input.sk-toggleable__control:checked~label.sk-toggleable__label {background-color: #d4ebff;}#sk-container-id-4 div.sk-label input.sk-toggleable__control:checked~label.sk-toggleable__label {background-color: #d4ebff;}#sk-container-id-4 input.sk-hidden--visually {border: 0;clip: rect(1px 1px 1px 1px);clip: rect(1px, 1px, 1px, 1px);height: 1px;margin: -1px;overflow: hidden;padding: 0;position: absolute;width: 1px;}#sk-container-id-4 div.sk-estimator {font-family: monospace;background-color: #f0f8ff;border: 1px dotted black;border-radius: 0.25em;box-sizing: border-box;margin-bottom: 0.5em;}#sk-container-id-4 div.sk-estimator:hover {background-color: #d4ebff;}#sk-container-id-4 div.sk-parallel-item::after {content: \"\";width: 100%;border-bottom: 1px solid gray;flex-grow: 1;}#sk-container-id-4 div.sk-label:hover label.sk-toggleable__label {background-color: #d4ebff;}#sk-container-id-4 div.sk-serial::before {content: \"\";position: absolute;border-left: 1px solid gray;box-sizing: border-box;top: 0;bottom: 0;left: 50%;z-index: 0;}#sk-container-id-4 div.sk-serial {display: flex;flex-direction: column;align-items: center;background-color: white;padding-right: 0.2em;padding-left: 0.2em;position: relative;}#sk-container-id-4 div.sk-item {position: relative;z-index: 1;}#sk-container-id-4 div.sk-parallel {display: flex;align-items: stretch;justify-content: center;background-color: white;position: relative;}#sk-container-id-4 div.sk-item::before, #sk-container-id-4 div.sk-parallel-item::before {content: \"\";position: absolute;border-left: 1px solid gray;box-sizing: border-box;top: 0;bottom: 0;left: 50%;z-index: -1;}#sk-container-id-4 div.sk-parallel-item {display: flex;flex-direction: column;z-index: 1;position: relative;background-color: white;}#sk-container-id-4 div.sk-parallel-item:first-child::after {align-self: flex-end;width: 50%;}#sk-container-id-4 div.sk-parallel-item:last-child::after {align-self: flex-start;width: 50%;}#sk-container-id-4 div.sk-parallel-item:only-child::after {width: 0;}#sk-container-id-4 div.sk-dashed-wrapped {border: 1px dashed gray;margin: 0 0.4em 0.5em 0.4em;box-sizing: border-box;padding-bottom: 0.4em;background-color: white;}#sk-container-id-4 div.sk-label label {font-family: monospace;font-weight: bold;display: inline-block;line-height: 1.2em;}#sk-container-id-4 div.sk-label-container {text-align: center;}#sk-container-id-4 div.sk-container {/* jupyter's `normalize.less` sets `[hidden] { display: none; }` but bootstrap.min.css set `[hidden] { display: none !important; }` so we also need the `!important` here to be able to override the default hidden behavior on the sphinx rendered scikit-learn.org. See: https://github.com/scikit-learn/scikit-learn/issues/21755 */display: inline-block !important;position: relative;}#sk-container-id-4 div.sk-text-repr-fallback {display: none;}</style><div id=\"sk-container-id-4\" class=\"sk-top-container\"><div class=\"sk-text-repr-fallback\"><pre>GridSearchCV(cv=5,\n",
              "             estimator=Pipeline(steps=[(&#x27;preprocessor&#x27;,\n",
              "                                        ColumnTransformer(transformers=[(&#x27;num&#x27;,\n",
              "                                                                         Pipeline(steps=[(&#x27;imputer&#x27;,\n",
              "                                                                                          SimpleImputer()),\n",
              "                                                                                         (&#x27;scaler&#x27;,\n",
              "                                                                                          StandardScaler())]),\n",
              "                                                                         [&#x27;Processor_Speed&#x27;,\n",
              "                                                                          &#x27;RAM_Size&#x27;,\n",
              "                                                                          &#x27;Storage_Capacity&#x27;,\n",
              "                                                                          &#x27;Screen_Size&#x27;,\n",
              "                                                                          &#x27;Weight&#x27;]),\n",
              "                                                                        (&#x27;cat&#x27;,\n",
              "                                                                         Pipeline(steps=[(&#x27;imputer&#x27;,\n",
              "                                                                                          SimpleImputer(strategy=&#x27;most_frequent&#x27;)),\n",
              "                                                                                         (&#x27;onehot&#x27;,\n",
              "                                                                                          OneHotEncoder(hand...\n",
              "                                                     max_leaves=None,\n",
              "                                                     min_child_weight=None,\n",
              "                                                     missing=nan,\n",
              "                                                     monotone_constraints=None,\n",
              "                                                     multi_strategy=None,\n",
              "                                                     n_estimators=None,\n",
              "                                                     n_jobs=None,\n",
              "                                                     num_parallel_tree=None,\n",
              "                                                     random_state=37, ...))]),\n",
              "             n_jobs=-1,\n",
              "             param_grid={&#x27;mod__gamma&#x27;: [0, 0.2, 0.3],\n",
              "                         &#x27;mod__learning_rate&#x27;: [0.01, 0.1, 0.2],\n",
              "                         &#x27;mod__max_depth&#x27;: [4, 6, 8],\n",
              "                         &#x27;mod__n_estimators&#x27;: [50, 100, 200],\n",
              "                         &#x27;mod__subsample&#x27;: [0.8, 1.0]},\n",
              "             verbose=2)</pre><b>In a Jupyter environment, please rerun this cell to show the HTML representation or trust the notebook. <br />On GitHub, the HTML representation is unable to render, please try loading this page with nbviewer.org.</b></div><div class=\"sk-container\" hidden><div class=\"sk-item sk-dashed-wrapped\"><div class=\"sk-label-container\"><div class=\"sk-label sk-toggleable\"><input class=\"sk-toggleable__control sk-hidden--visually\" id=\"sk-estimator-id-31\" type=\"checkbox\" ><label for=\"sk-estimator-id-31\" class=\"sk-toggleable__label sk-toggleable__label-arrow\">GridSearchCV</label><div class=\"sk-toggleable__content\"><pre>GridSearchCV(cv=5,\n",
              "             estimator=Pipeline(steps=[(&#x27;preprocessor&#x27;,\n",
              "                                        ColumnTransformer(transformers=[(&#x27;num&#x27;,\n",
              "                                                                         Pipeline(steps=[(&#x27;imputer&#x27;,\n",
              "                                                                                          SimpleImputer()),\n",
              "                                                                                         (&#x27;scaler&#x27;,\n",
              "                                                                                          StandardScaler())]),\n",
              "                                                                         [&#x27;Processor_Speed&#x27;,\n",
              "                                                                          &#x27;RAM_Size&#x27;,\n",
              "                                                                          &#x27;Storage_Capacity&#x27;,\n",
              "                                                                          &#x27;Screen_Size&#x27;,\n",
              "                                                                          &#x27;Weight&#x27;]),\n",
              "                                                                        (&#x27;cat&#x27;,\n",
              "                                                                         Pipeline(steps=[(&#x27;imputer&#x27;,\n",
              "                                                                                          SimpleImputer(strategy=&#x27;most_frequent&#x27;)),\n",
              "                                                                                         (&#x27;onehot&#x27;,\n",
              "                                                                                          OneHotEncoder(hand...\n",
              "                                                     max_leaves=None,\n",
              "                                                     min_child_weight=None,\n",
              "                                                     missing=nan,\n",
              "                                                     monotone_constraints=None,\n",
              "                                                     multi_strategy=None,\n",
              "                                                     n_estimators=None,\n",
              "                                                     n_jobs=None,\n",
              "                                                     num_parallel_tree=None,\n",
              "                                                     random_state=37, ...))]),\n",
              "             n_jobs=-1,\n",
              "             param_grid={&#x27;mod__gamma&#x27;: [0, 0.2, 0.3],\n",
              "                         &#x27;mod__learning_rate&#x27;: [0.01, 0.1, 0.2],\n",
              "                         &#x27;mod__max_depth&#x27;: [4, 6, 8],\n",
              "                         &#x27;mod__n_estimators&#x27;: [50, 100, 200],\n",
              "                         &#x27;mod__subsample&#x27;: [0.8, 1.0]},\n",
              "             verbose=2)</pre></div></div></div><div class=\"sk-parallel\"><div class=\"sk-parallel-item\"><div class=\"sk-item\"><div class=\"sk-label-container\"><div class=\"sk-label sk-toggleable\"><input class=\"sk-toggleable__control sk-hidden--visually\" id=\"sk-estimator-id-32\" type=\"checkbox\" ><label for=\"sk-estimator-id-32\" class=\"sk-toggleable__label sk-toggleable__label-arrow\">estimator: Pipeline</label><div class=\"sk-toggleable__content\"><pre>Pipeline(steps=[(&#x27;preprocessor&#x27;,\n",
              "                 ColumnTransformer(transformers=[(&#x27;num&#x27;,\n",
              "                                                  Pipeline(steps=[(&#x27;imputer&#x27;,\n",
              "                                                                   SimpleImputer()),\n",
              "                                                                  (&#x27;scaler&#x27;,\n",
              "                                                                   StandardScaler())]),\n",
              "                                                  [&#x27;Processor_Speed&#x27;,\n",
              "                                                   &#x27;RAM_Size&#x27;,\n",
              "                                                   &#x27;Storage_Capacity&#x27;,\n",
              "                                                   &#x27;Screen_Size&#x27;, &#x27;Weight&#x27;]),\n",
              "                                                 (&#x27;cat&#x27;,\n",
              "                                                  Pipeline(steps=[(&#x27;imputer&#x27;,\n",
              "                                                                   SimpleImputer(strategy=&#x27;most_frequent&#x27;)),\n",
              "                                                                  (&#x27;onehot&#x27;,\n",
              "                                                                   OneHotEncoder(handle_unknown=&#x27;ignore&#x27;))]),\n",
              "                                                  [&#x27;Br...\n",
              "                              feature_types=None, gamma=None, grow_policy=None,\n",
              "                              importance_type=None,\n",
              "                              interaction_constraints=None, learning_rate=None,\n",
              "                              max_bin=None, max_cat_threshold=None,\n",
              "                              max_cat_to_onehot=None, max_delta_step=None,\n",
              "                              max_depth=None, max_leaves=None,\n",
              "                              min_child_weight=None, missing=nan,\n",
              "                              monotone_constraints=None, multi_strategy=None,\n",
              "                              n_estimators=None, n_jobs=None,\n",
              "                              num_parallel_tree=None, random_state=37, ...))])</pre></div></div></div><div class=\"sk-serial\"><div class=\"sk-item\"><div class=\"sk-serial\"><div class=\"sk-item sk-dashed-wrapped\"><div class=\"sk-label-container\"><div class=\"sk-label sk-toggleable\"><input class=\"sk-toggleable__control sk-hidden--visually\" id=\"sk-estimator-id-33\" type=\"checkbox\" ><label for=\"sk-estimator-id-33\" class=\"sk-toggleable__label sk-toggleable__label-arrow\">preprocessor: ColumnTransformer</label><div class=\"sk-toggleable__content\"><pre>ColumnTransformer(transformers=[(&#x27;num&#x27;,\n",
              "                                 Pipeline(steps=[(&#x27;imputer&#x27;, SimpleImputer()),\n",
              "                                                 (&#x27;scaler&#x27;, StandardScaler())]),\n",
              "                                 [&#x27;Processor_Speed&#x27;, &#x27;RAM_Size&#x27;,\n",
              "                                  &#x27;Storage_Capacity&#x27;, &#x27;Screen_Size&#x27;,\n",
              "                                  &#x27;Weight&#x27;]),\n",
              "                                (&#x27;cat&#x27;,\n",
              "                                 Pipeline(steps=[(&#x27;imputer&#x27;,\n",
              "                                                  SimpleImputer(strategy=&#x27;most_frequent&#x27;)),\n",
              "                                                 (&#x27;onehot&#x27;,\n",
              "                                                  OneHotEncoder(handle_unknown=&#x27;ignore&#x27;))]),\n",
              "                                 [&#x27;Brand&#x27;])])</pre></div></div></div><div class=\"sk-parallel\"><div class=\"sk-parallel-item\"><div class=\"sk-item\"><div class=\"sk-label-container\"><div class=\"sk-label sk-toggleable\"><input class=\"sk-toggleable__control sk-hidden--visually\" id=\"sk-estimator-id-34\" type=\"checkbox\" ><label for=\"sk-estimator-id-34\" class=\"sk-toggleable__label sk-toggleable__label-arrow\">num</label><div class=\"sk-toggleable__content\"><pre>[&#x27;Processor_Speed&#x27;, &#x27;RAM_Size&#x27;, &#x27;Storage_Capacity&#x27;, &#x27;Screen_Size&#x27;, &#x27;Weight&#x27;]</pre></div></div></div><div class=\"sk-serial\"><div class=\"sk-item\"><div class=\"sk-serial\"><div class=\"sk-item\"><div class=\"sk-estimator sk-toggleable\"><input class=\"sk-toggleable__control sk-hidden--visually\" id=\"sk-estimator-id-35\" type=\"checkbox\" ><label for=\"sk-estimator-id-35\" class=\"sk-toggleable__label sk-toggleable__label-arrow\">SimpleImputer</label><div class=\"sk-toggleable__content\"><pre>SimpleImputer()</pre></div></div></div><div class=\"sk-item\"><div class=\"sk-estimator sk-toggleable\"><input class=\"sk-toggleable__control sk-hidden--visually\" id=\"sk-estimator-id-36\" type=\"checkbox\" ><label for=\"sk-estimator-id-36\" class=\"sk-toggleable__label sk-toggleable__label-arrow\">StandardScaler</label><div class=\"sk-toggleable__content\"><pre>StandardScaler()</pre></div></div></div></div></div></div></div></div><div class=\"sk-parallel-item\"><div class=\"sk-item\"><div class=\"sk-label-container\"><div class=\"sk-label sk-toggleable\"><input class=\"sk-toggleable__control sk-hidden--visually\" id=\"sk-estimator-id-37\" type=\"checkbox\" ><label for=\"sk-estimator-id-37\" class=\"sk-toggleable__label sk-toggleable__label-arrow\">cat</label><div class=\"sk-toggleable__content\"><pre>[&#x27;Brand&#x27;]</pre></div></div></div><div class=\"sk-serial\"><div class=\"sk-item\"><div class=\"sk-serial\"><div class=\"sk-item\"><div class=\"sk-estimator sk-toggleable\"><input class=\"sk-toggleable__control sk-hidden--visually\" id=\"sk-estimator-id-38\" type=\"checkbox\" ><label for=\"sk-estimator-id-38\" class=\"sk-toggleable__label sk-toggleable__label-arrow\">SimpleImputer</label><div class=\"sk-toggleable__content\"><pre>SimpleImputer(strategy=&#x27;most_frequent&#x27;)</pre></div></div></div><div class=\"sk-item\"><div class=\"sk-estimator sk-toggleable\"><input class=\"sk-toggleable__control sk-hidden--visually\" id=\"sk-estimator-id-39\" type=\"checkbox\" ><label for=\"sk-estimator-id-39\" class=\"sk-toggleable__label sk-toggleable__label-arrow\">OneHotEncoder</label><div class=\"sk-toggleable__content\"><pre>OneHotEncoder(handle_unknown=&#x27;ignore&#x27;)</pre></div></div></div></div></div></div></div></div></div></div><div class=\"sk-item\"><div class=\"sk-estimator sk-toggleable\"><input class=\"sk-toggleable__control sk-hidden--visually\" id=\"sk-estimator-id-40\" type=\"checkbox\" ><label for=\"sk-estimator-id-40\" class=\"sk-toggleable__label sk-toggleable__label-arrow\">XGBRegressor</label><div class=\"sk-toggleable__content\"><pre>XGBRegressor(base_score=None, booster=None, callbacks=None,\n",
              "             colsample_bylevel=None, colsample_bynode=None,\n",
              "             colsample_bytree=None, device=None, early_stopping_rounds=None,\n",
              "             enable_categorical=False, eval_metric=None, feature_types=None,\n",
              "             gamma=None, grow_policy=None, importance_type=None,\n",
              "             interaction_constraints=None, learning_rate=None, max_bin=None,\n",
              "             max_cat_threshold=None, max_cat_to_onehot=None,\n",
              "             max_delta_step=None, max_depth=None, max_leaves=None,\n",
              "             min_child_weight=None, missing=nan, monotone_constraints=None,\n",
              "             multi_strategy=None, n_estimators=None, n_jobs=None,\n",
              "             num_parallel_tree=None, random_state=37, ...)</pre></div></div></div></div></div></div></div></div></div></div></div></div>"
            ]
          },
          "metadata": {},
          "execution_count": 48
        }
      ],
      "source": [
        "gridSearch.fit(X_train, y_train)"
      ]
    },
    {
      "cell_type": "code",
      "execution_count": null,
      "metadata": {
        "id": "O0FCNGbXmS55"
      },
      "outputs": [],
      "source": [
        "mod = gridSearch.best_estimator_\n",
        "bestParams = gridSearch.best_params_"
      ]
    },
    {
      "cell_type": "code",
      "execution_count": null,
      "metadata": {
        "colab": {
          "base_uri": "https://localhost:8080/"
        },
        "id": "RPFzRnZ7mTrk",
        "outputId": "01d29e41-d242-453b-9894-f8177914b0bc"
      },
      "outputs": [
        {
          "output_type": "stream",
          "name": "stdout",
          "text": [
            "Лучшие параметры:  {'mod__gamma': 0, 'mod__learning_rate': 0.1, 'mod__max_depth': 4, 'mod__n_estimators': 100, 'mod__subsample': 1.0}\n"
          ]
        }
      ],
      "source": [
        "print(\"Лучшие параметры: \", bestParams)"
      ]
    }
  ],
  "metadata": {
    "colab": {
      "provenance": []
    },
    "kernelspec": {
      "display_name": "Python 3",
      "name": "python3"
    },
    "language_info": {
      "name": "python"
    }
  },
  "nbformat": 4,
  "nbformat_minor": 0
}