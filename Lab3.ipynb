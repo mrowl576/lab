{
  "cells": [
    {
      "cell_type": "code",
      "execution_count": 3,
      "metadata": {
        "collapsed": true,
        "id": "S-Ke4XfAp206",
        "colab": {
          "base_uri": "https://localhost:8080/"
        },
        "outputId": "7a0a8b72-bd45-44c3-df20-c7737f2ca02e"
      },
      "outputs": [
        {
          "output_type": "stream",
          "name": "stdout",
          "text": [
            "Collecting mlflow\n",
            "  Downloading mlflow-2.13.1-py3-none-any.whl (25.0 MB)\n",
            "\u001b[2K     \u001b[90m━━━━━━━━━━━━━━━━━━━━━━━━━━━━━━━━━━━━━━━━\u001b[0m \u001b[32m25.0/25.0 MB\u001b[0m \u001b[31m17.0 MB/s\u001b[0m eta \u001b[36m0:00:00\u001b[0m\n",
            "\u001b[?25hCollecting optuna\n",
            "  Downloading optuna-3.6.1-py3-none-any.whl (380 kB)\n",
            "\u001b[2K     \u001b[90m━━━━━━━━━━━━━━━━━━━━━━━━━━━━━━━━━━━━━━━━\u001b[0m \u001b[32m380.1/380.1 kB\u001b[0m \u001b[31m22.3 MB/s\u001b[0m eta \u001b[36m0:00:00\u001b[0m\n",
            "\u001b[?25hRequirement already satisfied: Flask<4 in /usr/local/lib/python3.10/dist-packages (from mlflow) (2.2.5)\n",
            "Collecting alembic!=1.10.0,<2 (from mlflow)\n",
            "  Downloading alembic-1.13.1-py3-none-any.whl (233 kB)\n",
            "\u001b[2K     \u001b[90m━━━━━━━━━━━━━━━━━━━━━━━━━━━━━━━━━━━━━━━━\u001b[0m \u001b[32m233.4/233.4 kB\u001b[0m \u001b[31m7.2 MB/s\u001b[0m eta \u001b[36m0:00:00\u001b[0m\n",
            "\u001b[?25hRequirement already satisfied: cachetools<6,>=5.0.0 in /usr/local/lib/python3.10/dist-packages (from mlflow) (5.3.3)\n",
            "Requirement already satisfied: click<9,>=7.0 in /usr/local/lib/python3.10/dist-packages (from mlflow) (8.1.7)\n",
            "Requirement already satisfied: cloudpickle<4 in /usr/local/lib/python3.10/dist-packages (from mlflow) (2.2.1)\n",
            "Collecting docker<8,>=4.0.0 (from mlflow)\n",
            "  Downloading docker-7.1.0-py3-none-any.whl (147 kB)\n",
            "\u001b[2K     \u001b[90m━━━━━━━━━━━━━━━━━━━━━━━━━━━━━━━━━━━━━━━━\u001b[0m \u001b[32m147.8/147.8 kB\u001b[0m \u001b[31m5.9 MB/s\u001b[0m eta \u001b[36m0:00:00\u001b[0m\n",
            "\u001b[?25hRequirement already satisfied: entrypoints<1 in /usr/local/lib/python3.10/dist-packages (from mlflow) (0.4)\n",
            "Collecting gitpython<4,>=3.1.9 (from mlflow)\n",
            "  Downloading GitPython-3.1.43-py3-none-any.whl (207 kB)\n",
            "\u001b[2K     \u001b[90m━━━━━━━━━━━━━━━━━━━━━━━━━━━━━━━━━━━━━━━━\u001b[0m \u001b[32m207.3/207.3 kB\u001b[0m \u001b[31m11.3 MB/s\u001b[0m eta \u001b[36m0:00:00\u001b[0m\n",
            "\u001b[?25hCollecting graphene<4 (from mlflow)\n",
            "  Downloading graphene-3.3-py2.py3-none-any.whl (128 kB)\n",
            "\u001b[2K     \u001b[90m━━━━━━━━━━━━━━━━━━━━━━━━━━━━━━━━━━━━━━━━\u001b[0m \u001b[32m128.2/128.2 kB\u001b[0m \u001b[31m10.4 MB/s\u001b[0m eta \u001b[36m0:00:00\u001b[0m\n",
            "\u001b[?25hRequirement already satisfied: importlib-metadata!=4.7.0,<8,>=3.7.0 in /usr/local/lib/python3.10/dist-packages (from mlflow) (7.1.0)\n",
            "Requirement already satisfied: markdown<4,>=3.3 in /usr/local/lib/python3.10/dist-packages (from mlflow) (3.6)\n",
            "Requirement already satisfied: matplotlib<4 in /usr/local/lib/python3.10/dist-packages (from mlflow) (3.7.1)\n",
            "Requirement already satisfied: numpy<2 in /usr/local/lib/python3.10/dist-packages (from mlflow) (1.25.2)\n",
            "Collecting opentelemetry-api<3,>=1.0.0 (from mlflow)\n",
            "  Downloading opentelemetry_api-1.25.0-py3-none-any.whl (59 kB)\n",
            "\u001b[2K     \u001b[90m━━━━━━━━━━━━━━━━━━━━━━━━━━━━━━━━━━━━━━━━\u001b[0m \u001b[32m59.9/59.9 kB\u001b[0m \u001b[31m5.2 MB/s\u001b[0m eta \u001b[36m0:00:00\u001b[0m\n",
            "\u001b[?25hCollecting opentelemetry-sdk<3,>=1.0.0 (from mlflow)\n",
            "  Downloading opentelemetry_sdk-1.25.0-py3-none-any.whl (107 kB)\n",
            "\u001b[2K     \u001b[90m━━━━━━━━━━━━━━━━━━━━━━━━━━━━━━━━━━━━━━━━\u001b[0m \u001b[32m107.0/107.0 kB\u001b[0m \u001b[31m2.6 MB/s\u001b[0m eta \u001b[36m0:00:00\u001b[0m\n",
            "\u001b[?25hRequirement already satisfied: packaging<25 in /usr/local/lib/python3.10/dist-packages (from mlflow) (24.0)\n",
            "Requirement already satisfied: pandas<3 in /usr/local/lib/python3.10/dist-packages (from mlflow) (2.0.3)\n",
            "Requirement already satisfied: protobuf<5,>=3.12.0 in /usr/local/lib/python3.10/dist-packages (from mlflow) (3.20.3)\n",
            "Requirement already satisfied: pyarrow<16,>=4.0.0 in /usr/local/lib/python3.10/dist-packages (from mlflow) (14.0.2)\n",
            "Requirement already satisfied: pytz<2025 in /usr/local/lib/python3.10/dist-packages (from mlflow) (2023.4)\n",
            "Requirement already satisfied: pyyaml<7,>=5.1 in /usr/local/lib/python3.10/dist-packages (from mlflow) (6.0.1)\n",
            "Collecting querystring-parser<2 (from mlflow)\n",
            "  Downloading querystring_parser-1.2.4-py2.py3-none-any.whl (7.9 kB)\n",
            "Requirement already satisfied: requests<3,>=2.17.3 in /usr/local/lib/python3.10/dist-packages (from mlflow) (2.31.0)\n",
            "Requirement already satisfied: scikit-learn<2 in /usr/local/lib/python3.10/dist-packages (from mlflow) (1.2.2)\n",
            "Requirement already satisfied: scipy<2 in /usr/local/lib/python3.10/dist-packages (from mlflow) (1.11.4)\n",
            "Requirement already satisfied: sqlalchemy<3,>=1.4.0 in /usr/local/lib/python3.10/dist-packages (from mlflow) (2.0.30)\n",
            "Requirement already satisfied: sqlparse<1,>=0.4.0 in /usr/local/lib/python3.10/dist-packages (from mlflow) (0.5.0)\n",
            "Requirement already satisfied: Jinja2<4,>=2.11 in /usr/local/lib/python3.10/dist-packages (from mlflow) (3.1.4)\n",
            "Collecting gunicorn<23 (from mlflow)\n",
            "  Downloading gunicorn-22.0.0-py3-none-any.whl (84 kB)\n",
            "\u001b[2K     \u001b[90m━━━━━━━━━━━━━━━━━━━━━━━━━━━━━━━━━━━━━━━━\u001b[0m \u001b[32m84.4/84.4 kB\u001b[0m \u001b[31m8.8 MB/s\u001b[0m eta \u001b[36m0:00:00\u001b[0m\n",
            "\u001b[?25hCollecting colorlog (from optuna)\n",
            "  Downloading colorlog-6.8.2-py3-none-any.whl (11 kB)\n",
            "Requirement already satisfied: tqdm in /usr/local/lib/python3.10/dist-packages (from optuna) (4.66.4)\n",
            "Collecting Mako (from alembic!=1.10.0,<2->mlflow)\n",
            "  Downloading Mako-1.3.5-py3-none-any.whl (78 kB)\n",
            "\u001b[2K     \u001b[90m━━━━━━━━━━━━━━━━━━━━━━━━━━━━━━━━━━━━━━━━\u001b[0m \u001b[32m78.6/78.6 kB\u001b[0m \u001b[31m5.5 MB/s\u001b[0m eta \u001b[36m0:00:00\u001b[0m\n",
            "\u001b[?25hRequirement already satisfied: typing-extensions>=4 in /usr/local/lib/python3.10/dist-packages (from alembic!=1.10.0,<2->mlflow) (4.12.0)\n",
            "Requirement already satisfied: urllib3>=1.26.0 in /usr/local/lib/python3.10/dist-packages (from docker<8,>=4.0.0->mlflow) (2.0.7)\n",
            "Requirement already satisfied: Werkzeug>=2.2.2 in /usr/local/lib/python3.10/dist-packages (from Flask<4->mlflow) (3.0.3)\n",
            "Requirement already satisfied: itsdangerous>=2.0 in /usr/local/lib/python3.10/dist-packages (from Flask<4->mlflow) (2.2.0)\n",
            "Collecting gitdb<5,>=4.0.1 (from gitpython<4,>=3.1.9->mlflow)\n",
            "  Downloading gitdb-4.0.11-py3-none-any.whl (62 kB)\n",
            "\u001b[2K     \u001b[90m━━━━━━━━━━━━━━━━━━━━━━━━━━━━━━━━━━━━━━━━\u001b[0m \u001b[32m62.7/62.7 kB\u001b[0m \u001b[31m9.1 MB/s\u001b[0m eta \u001b[36m0:00:00\u001b[0m\n",
            "\u001b[?25hCollecting graphql-core<3.3,>=3.1 (from graphene<4->mlflow)\n",
            "  Downloading graphql_core-3.2.3-py3-none-any.whl (202 kB)\n",
            "\u001b[2K     \u001b[90m━━━━━━━━━━━━━━━━━━━━━━━━━━━━━━━━━━━━━━━━\u001b[0m \u001b[32m202.9/202.9 kB\u001b[0m \u001b[31m27.8 MB/s\u001b[0m eta \u001b[36m0:00:00\u001b[0m\n",
            "\u001b[?25hCollecting graphql-relay<3.3,>=3.1 (from graphene<4->mlflow)\n",
            "  Downloading graphql_relay-3.2.0-py3-none-any.whl (16 kB)\n",
            "Collecting aniso8601<10,>=8 (from graphene<4->mlflow)\n",
            "  Downloading aniso8601-9.0.1-py2.py3-none-any.whl (52 kB)\n",
            "\u001b[2K     \u001b[90m━━━━━━━━━━━━━━━━━━━━━━━━━━━━━━━━━━━━━━━━\u001b[0m \u001b[32m52.8/52.8 kB\u001b[0m \u001b[31m8.2 MB/s\u001b[0m eta \u001b[36m0:00:00\u001b[0m\n",
            "\u001b[?25hRequirement already satisfied: zipp>=0.5 in /usr/local/lib/python3.10/dist-packages (from importlib-metadata!=4.7.0,<8,>=3.7.0->mlflow) (3.19.0)\n",
            "Requirement already satisfied: MarkupSafe>=2.0 in /usr/local/lib/python3.10/dist-packages (from Jinja2<4,>=2.11->mlflow) (2.1.5)\n",
            "Requirement already satisfied: contourpy>=1.0.1 in /usr/local/lib/python3.10/dist-packages (from matplotlib<4->mlflow) (1.2.1)\n",
            "Requirement already satisfied: cycler>=0.10 in /usr/local/lib/python3.10/dist-packages (from matplotlib<4->mlflow) (0.12.1)\n",
            "Requirement already satisfied: fonttools>=4.22.0 in /usr/local/lib/python3.10/dist-packages (from matplotlib<4->mlflow) (4.52.4)\n",
            "Requirement already satisfied: kiwisolver>=1.0.1 in /usr/local/lib/python3.10/dist-packages (from matplotlib<4->mlflow) (1.4.5)\n",
            "Requirement already satisfied: pillow>=6.2.0 in /usr/local/lib/python3.10/dist-packages (from matplotlib<4->mlflow) (9.4.0)\n",
            "Requirement already satisfied: pyparsing>=2.3.1 in /usr/local/lib/python3.10/dist-packages (from matplotlib<4->mlflow) (3.1.2)\n",
            "Requirement already satisfied: python-dateutil>=2.7 in /usr/local/lib/python3.10/dist-packages (from matplotlib<4->mlflow) (2.8.2)\n",
            "Collecting deprecated>=1.2.6 (from opentelemetry-api<3,>=1.0.0->mlflow)\n",
            "  Downloading Deprecated-1.2.14-py2.py3-none-any.whl (9.6 kB)\n",
            "Collecting opentelemetry-semantic-conventions==0.46b0 (from opentelemetry-sdk<3,>=1.0.0->mlflow)\n",
            "  Downloading opentelemetry_semantic_conventions-0.46b0-py3-none-any.whl (130 kB)\n",
            "\u001b[2K     \u001b[90m━━━━━━━━━━━━━━━━━━━━━━━━━━━━━━━━━━━━━━━━\u001b[0m \u001b[32m130.5/130.5 kB\u001b[0m \u001b[31m18.8 MB/s\u001b[0m eta \u001b[36m0:00:00\u001b[0m\n",
            "\u001b[?25hRequirement already satisfied: tzdata>=2022.1 in /usr/local/lib/python3.10/dist-packages (from pandas<3->mlflow) (2024.1)\n",
            "Requirement already satisfied: six in /usr/local/lib/python3.10/dist-packages (from querystring-parser<2->mlflow) (1.16.0)\n",
            "Requirement already satisfied: charset-normalizer<4,>=2 in /usr/local/lib/python3.10/dist-packages (from requests<3,>=2.17.3->mlflow) (3.3.2)\n",
            "Requirement already satisfied: idna<4,>=2.5 in /usr/local/lib/python3.10/dist-packages (from requests<3,>=2.17.3->mlflow) (3.7)\n",
            "Requirement already satisfied: certifi>=2017.4.17 in /usr/local/lib/python3.10/dist-packages (from requests<3,>=2.17.3->mlflow) (2024.2.2)\n",
            "Requirement already satisfied: joblib>=1.1.1 in /usr/local/lib/python3.10/dist-packages (from scikit-learn<2->mlflow) (1.4.2)\n",
            "Requirement already satisfied: threadpoolctl>=2.0.0 in /usr/local/lib/python3.10/dist-packages (from scikit-learn<2->mlflow) (3.5.0)\n",
            "Requirement already satisfied: greenlet!=0.4.17 in /usr/local/lib/python3.10/dist-packages (from sqlalchemy<3,>=1.4.0->mlflow) (3.0.3)\n",
            "Requirement already satisfied: wrapt<2,>=1.10 in /usr/local/lib/python3.10/dist-packages (from deprecated>=1.2.6->opentelemetry-api<3,>=1.0.0->mlflow) (1.14.1)\n",
            "Collecting smmap<6,>=3.0.1 (from gitdb<5,>=4.0.1->gitpython<4,>=3.1.9->mlflow)\n",
            "  Downloading smmap-5.0.1-py3-none-any.whl (24 kB)\n",
            "Installing collected packages: aniso8601, smmap, querystring-parser, Mako, gunicorn, graphql-core, deprecated, colorlog, opentelemetry-api, graphql-relay, gitdb, docker, alembic, optuna, opentelemetry-semantic-conventions, graphene, gitpython, opentelemetry-sdk, mlflow\n",
            "Successfully installed Mako-1.3.5 alembic-1.13.1 aniso8601-9.0.1 colorlog-6.8.2 deprecated-1.2.14 docker-7.1.0 gitdb-4.0.11 gitpython-3.1.43 graphene-3.3 graphql-core-3.2.3 graphql-relay-3.2.0 gunicorn-22.0.0 mlflow-2.13.1 opentelemetry-api-1.25.0 opentelemetry-sdk-1.25.0 opentelemetry-semantic-conventions-0.46b0 optuna-3.6.1 querystring-parser-1.2.4 smmap-5.0.1\n"
          ]
        }
      ],
      "source": [
        "#!pip install mlflow optuna"
      ]
    },
    {
      "cell_type": "code",
      "execution_count": 4,
      "metadata": {
        "id": "SGFQgiFOlkTp"
      },
      "outputs": [],
      "source": [
        "import mlflow\n",
        "import mlflow.sklearn\n",
        "import optuna\n",
        "from sklearn.metrics import mean_squared_error\n",
        "\n",
        "import pandas as pd\n",
        "from sklearn.model_selection import train_test_split, GridSearchCV\n",
        "from sklearn.compose import ColumnTransformer\n",
        "from sklearn.pipeline import Pipeline\n",
        "from sklearn.impute import SimpleImputer\n",
        "from sklearn.preprocessing import StandardScaler, OneHotEncoder\n",
        "from xgboost import XGBRegressor"
      ]
    },
    {
      "cell_type": "code",
      "execution_count": 5,
      "metadata": {
        "colab": {
          "base_uri": "https://localhost:8080/"
        },
        "id": "SyR8E0lOlvmA",
        "outputId": "def8a3f4-ab79-4f04-cbe6-331c07977873"
      },
      "outputs": [
        {
          "output_type": "stream",
          "name": "stdout",
          "text": [
            "Mounted at /content/drive/\n"
          ]
        }
      ],
      "source": [
        "from google.colab import drive\n",
        "drive.mount('/content/drive/')"
      ]
    },
    {
      "cell_type": "code",
      "execution_count": 6,
      "metadata": {
        "colab": {
          "base_uri": "https://localhost:8080/"
        },
        "id": "dSe2V5Zfl-iK",
        "outputId": "f83f9c55-a005-4bca-fdbd-856c9df5f102"
      },
      "outputs": [
        {
          "output_type": "stream",
          "name": "stdout",
          "text": [
            "/content/drive/MyDrive\n"
          ]
        }
      ],
      "source": [
        "%cd /content/drive/MyDrive\n",
        "df = pd.read_csv('/content/drive/MyDrive/Laptop_price.csv')"
      ]
    },
    {
      "cell_type": "code",
      "execution_count": 7,
      "metadata": {
        "id": "jJyH4XdKmGPR"
      },
      "outputs": [],
      "source": [
        "X = df.drop('Price', axis=1)\n",
        "y = df['Price']"
      ]
    },
    {
      "cell_type": "code",
      "execution_count": 8,
      "metadata": {
        "id": "qkmUoeJpmHye"
      },
      "outputs": [],
      "source": [
        "X_train, X_test, y_train, y_test = train_test_split(X, y, test_size=0.2, random_state=42)"
      ]
    },
    {
      "cell_type": "code",
      "execution_count": 9,
      "metadata": {
        "id": "TVWm0H1GmI0m"
      },
      "outputs": [],
      "source": [
        "categoricalFeatures = X.select_dtypes(include=['object']).columns.tolist()\n",
        "numericalFeatures = X.select_dtypes(include=['int64', 'float64']).columns.tolist()"
      ]
    },
    {
      "cell_type": "code",
      "execution_count": 10,
      "metadata": {
        "id": "pKRBLrCqmKl7"
      },
      "outputs": [],
      "source": [
        "numericalTransformer = Pipeline(steps=[\n",
        "    ('imputer', SimpleImputer(strategy='mean')),\n",
        "    ('scaler', StandardScaler())\n",
        "])\n",
        "\n",
        "categoricalTransformer = Pipeline(steps=[\n",
        "    ('imputer', SimpleImputer(strategy='most_frequent')),\n",
        "    ('onehot', OneHotEncoder(handle_unknown='ignore'))\n",
        "])"
      ]
    },
    {
      "cell_type": "code",
      "execution_count": 11,
      "metadata": {
        "id": "EIVSamFkmNsF"
      },
      "outputs": [],
      "source": [
        "preprocessor = ColumnTransformer(\n",
        "    transformers=[\n",
        "        ('num', numericalTransformer, numericalFeatures),\n",
        "        ('cat', categoricalTransformer, categoricalFeatures)\n",
        "    ])"
      ]
    },
    {
      "cell_type": "code",
      "execution_count": 12,
      "metadata": {
        "id": "TFsUoePPmOln"
      },
      "outputs": [],
      "source": [
        "pipeline = Pipeline(steps=[\n",
        "    ('preprocessor', preprocessor),\n",
        "    ('mod', XGBRegressor(random_state=37))\n",
        "])"
      ]
    },
    {
      "cell_type": "code",
      "execution_count": 18,
      "metadata": {
        "colab": {
          "base_uri": "https://localhost:8080/"
        },
        "id": "T3leupJ8mQnf",
        "outputId": "b2614d4a-b326-4e6e-c187-f6e621241b9d"
      },
      "outputs": [
        {
          "output_type": "stream",
          "name": "stderr",
          "text": [
            "[I 2024-06-04 00:15:12,635] A new study created in memory with name: no-name-8eae9a98-3182-41f3-99cf-5eb86297f4a4\n",
            "[I 2024-06-04 00:15:12,886] Trial 0 finished with value: 40143.411208719444 and parameters: {'mod__n_estimators': 139, 'mod__learning_rate': 0.04440481735432135, 'mod__max_depth': 8, 'mod__gamma': 0.17455025749983805, 'mod__subsample': 0.8244335390335266}. Best is trial 0 with value: 40143.411208719444.\n",
            "[I 2024-06-04 00:15:13,071] Trial 1 finished with value: 45724.25845077345 and parameters: {'mod__n_estimators': 172, 'mod__learning_rate': 0.14076995844429963, 'mod__max_depth': 6, 'mod__gamma': 0.26905729010844237, 'mod__subsample': 0.996312029003527}. Best is trial 0 with value: 40143.411208719444.\n",
            "[I 2024-06-04 00:15:13,250] Trial 2 finished with value: 42326.32373075038 and parameters: {'mod__n_estimators': 166, 'mod__learning_rate': 0.08633818412518449, 'mod__max_depth': 5, 'mod__gamma': 0.20087218166637577, 'mod__subsample': 0.9777696466557445}. Best is trial 0 with value: 40143.411208719444.\n",
            "[I 2024-06-04 00:15:13,355] Trial 3 finished with value: 42688.192695809 and parameters: {'mod__n_estimators': 196, 'mod__learning_rate': 0.1439878043135677, 'mod__max_depth': 3, 'mod__gamma': 0.14036357575862704, 'mod__subsample': 0.9560361734484396}. Best is trial 0 with value: 40143.411208719444.\n",
            "[I 2024-06-04 00:15:13,448] Trial 4 finished with value: 189195.92383562238 and parameters: {'mod__n_estimators': 188, 'mod__learning_rate': 0.01709037716427441, 'mod__max_depth': 3, 'mod__gamma': 0.027286653727977516, 'mod__subsample': 0.8567139155299965}. Best is trial 0 with value: 40143.411208719444.\n",
            "[I 2024-06-04 00:15:13,519] Trial 5 finished with value: 40155.06630107215 and parameters: {'mod__n_estimators': 53, 'mod__learning_rate': 0.1709539602950767, 'mod__max_depth': 4, 'mod__gamma': 0.19433910416774183, 'mod__subsample': 0.9704731383666695}. Best is trial 0 with value: 40143.411208719444.\n",
            "[I 2024-06-04 00:15:13,734] Trial 6 finished with value: 41410.75007342287 and parameters: {'mod__n_estimators': 185, 'mod__learning_rate': 0.05733458466209159, 'mod__max_depth': 6, 'mod__gamma': 0.23478012419568045, 'mod__subsample': 0.8621546202354426}. Best is trial 0 with value: 40143.411208719444.\n",
            "[I 2024-06-04 00:15:13,800] Trial 7 finished with value: 39804.20248922469 and parameters: {'mod__n_estimators': 99, 'mod__learning_rate': 0.18873402366167485, 'mod__max_depth': 3, 'mod__gamma': 0.2510340843417473, 'mod__subsample': 0.8195104755889075}. Best is trial 7 with value: 39804.20248922469.\n",
            "[I 2024-06-04 00:15:13,855] Trial 8 finished with value: 37201.59089849676 and parameters: {'mod__n_estimators': 71, 'mod__learning_rate': 0.17141045225838078, 'mod__max_depth': 3, 'mod__gamma': 0.10997599540805236, 'mod__subsample': 0.9241648719215406}. Best is trial 8 with value: 37201.59089849676.\n",
            "[I 2024-06-04 00:15:14,077] Trial 9 finished with value: 43876.634760647976 and parameters: {'mod__n_estimators': 103, 'mod__learning_rate': 0.17840839748510617, 'mod__max_depth': 8, 'mod__gamma': 0.13655809826164028, 'mod__subsample': 0.8129283684326631}. Best is trial 8 with value: 37201.59089849676.\n",
            "[I 2024-06-04 00:15:14,173] Trial 10 finished with value: 39808.313476555515 and parameters: {'mod__n_estimators': 53, 'mod__learning_rate': 0.12019104937909578, 'mod__max_depth': 5, 'mod__gamma': 0.060833119447266853, 'mod__subsample': 0.9242320780870924}. Best is trial 8 with value: 37201.59089849676.\n",
            "[I 2024-06-04 00:15:14,276] Trial 11 finished with value: 40611.099476911484 and parameters: {'mod__n_estimators': 89, 'mod__learning_rate': 0.19314635612600264, 'mod__max_depth': 3, 'mod__gamma': 0.0934194690410027, 'mod__subsample': 0.9050101892169206}. Best is trial 8 with value: 37201.59089849676.\n",
            "[I 2024-06-04 00:15:14,373] Trial 12 finished with value: 44838.48702352616 and parameters: {'mod__n_estimators': 90, 'mod__learning_rate': 0.19894469973371015, 'mod__max_depth': 4, 'mod__gamma': 0.295135055080708, 'mod__subsample': 0.8733407870569596}. Best is trial 8 with value: 37201.59089849676.\n",
            "[I 2024-06-04 00:15:14,488] Trial 13 finished with value: 41910.97137777462 and parameters: {'mod__n_estimators': 116, 'mod__learning_rate': 0.1476156503388115, 'mod__max_depth': 4, 'mod__gamma': 0.10205386465885763, 'mod__subsample': 0.9381739239817652}. Best is trial 8 with value: 37201.59089849676.\n",
            "[I 2024-06-04 00:15:14,569] Trial 14 finished with value: 36050.545636335264 and parameters: {'mod__n_estimators': 75, 'mod__learning_rate': 0.10193641704890044, 'mod__max_depth': 3, 'mod__gamma': 0.2416411504813782, 'mod__subsample': 0.9038444113898828}. Best is trial 14 with value: 36050.545636335264.\n",
            "[I 2024-06-04 00:15:14,723] Trial 15 finished with value: 40650.8684349215 and parameters: {'mod__n_estimators': 69, 'mod__learning_rate': 0.09463797670684893, 'mod__max_depth': 7, 'mod__gamma': 0.22148996551361738, 'mod__subsample': 0.8960465325172123}. Best is trial 14 with value: 36050.545636335264.\n",
            "[I 2024-06-04 00:15:14,827] Trial 16 finished with value: 38789.0499964711 and parameters: {'mod__n_estimators': 75, 'mod__learning_rate': 0.11548914570342594, 'mod__max_depth': 4, 'mod__gamma': 0.009070896293483871, 'mod__subsample': 0.9116545043074437}. Best is trial 14 with value: 36050.545636335264.\n",
            "[I 2024-06-04 00:15:14,975] Trial 17 finished with value: 39362.2845129215 and parameters: {'mod__n_estimators': 124, 'mod__learning_rate': 0.06735690477356027, 'mod__max_depth': 5, 'mod__gamma': 0.10162131332530308, 'mod__subsample': 0.8840860503952538}. Best is trial 14 with value: 36050.545636335264.\n",
            "[I 2024-06-04 00:15:15,075] Trial 18 finished with value: 41550.150383374414 and parameters: {'mod__n_estimators': 141, 'mod__learning_rate': 0.12835564044699008, 'mod__max_depth': 3, 'mod__gamma': 0.16809047259453208, 'mod__subsample': 0.9399165163268991}. Best is trial 14 with value: 36050.545636335264.\n",
            "[I 2024-06-04 00:15:15,167] Trial 19 finished with value: 42492.450704604795 and parameters: {'mod__n_estimators': 69, 'mod__learning_rate': 0.16038979390950486, 'mod__max_depth': 4, 'mod__gamma': 0.2992895029279622, 'mod__subsample': 0.8436738457284757}. Best is trial 14 with value: 36050.545636335264.\n",
            "[I 2024-06-04 00:15:15,328] Trial 20 finished with value: 40660.448515951735 and parameters: {'mod__n_estimators': 78, 'mod__learning_rate': 0.09779295928392402, 'mod__max_depth': 6, 'mod__gamma': 0.06015627040723896, 'mod__subsample': 0.9285132071335942}. Best is trial 14 with value: 36050.545636335264.\n",
            "[I 2024-06-04 00:15:15,421] Trial 21 finished with value: 38534.12623825924 and parameters: {'mod__n_estimators': 71, 'mod__learning_rate': 0.11460169245112092, 'mod__max_depth': 4, 'mod__gamma': 0.024076939349469126, 'mod__subsample': 0.9122947471666225}. Best is trial 14 with value: 36050.545636335264.\n",
            "[I 2024-06-04 00:15:15,498] Trial 22 finished with value: 43263.54494921061 and parameters: {'mod__n_estimators': 58, 'mod__learning_rate': 0.07954339201652058, 'mod__max_depth': 3, 'mod__gamma': 0.04957555992919918, 'mod__subsample': 0.8946385539497153}. Best is trial 14 with value: 36050.545636335264.\n",
            "[I 2024-06-04 00:15:15,600] Trial 23 finished with value: 39595.362346423804 and parameters: {'mod__n_estimators': 89, 'mod__learning_rate': 0.10589367844437422, 'mod__max_depth': 4, 'mod__gamma': 0.11803538398370163, 'mod__subsample': 0.9157147737651983}. Best is trial 14 with value: 36050.545636335264.\n",
            "[I 2024-06-04 00:15:15,694] Trial 24 finished with value: 39327.90760495657 and parameters: {'mod__n_estimators': 109, 'mod__learning_rate': 0.12853855086599741, 'mod__max_depth': 3, 'mod__gamma': 0.002036895742749373, 'mod__subsample': 0.942910279883333}. Best is trial 14 with value: 36050.545636335264.\n",
            "[I 2024-06-04 00:15:15,786] Trial 25 finished with value: 38739.03884234585 and parameters: {'mod__n_estimators': 65, 'mod__learning_rate': 0.15580693822835567, 'mod__max_depth': 4, 'mod__gamma': 0.07852970946743221, 'mod__subsample': 0.8852181656632537}. Best is trial 14 with value: 36050.545636335264.\n",
            "[I 2024-06-04 00:15:15,887] Trial 26 finished with value: 928242.3779692361 and parameters: {'mod__n_estimators': 81, 'mod__learning_rate': 0.028382010603696467, 'mod__max_depth': 5, 'mod__gamma': 0.1595909386214982, 'mod__subsample': 0.959219511009523}. Best is trial 14 with value: 36050.545636335264.\n",
            "[I 2024-06-04 00:15:15,966] Trial 27 finished with value: 47738.445292001 and parameters: {'mod__n_estimators': 61, 'mod__learning_rate': 0.07210962720801699, 'mod__max_depth': 3, 'mod__gamma': 0.038287612497537676, 'mod__subsample': 0.9241472471677111}. Best is trial 14 with value: 36050.545636335264.\n",
            "[I 2024-06-04 00:15:16,114] Trial 28 finished with value: 41121.34043429345 and parameters: {'mod__n_estimators': 141, 'mod__learning_rate': 0.10740797274589656, 'mod__max_depth': 4, 'mod__gamma': 0.12078515382828797, 'mod__subsample': 0.878415209999318}. Best is trial 14 with value: 36050.545636335264.\n",
            "[I 2024-06-04 00:15:16,204] Trial 29 finished with value: 38143.17628908466 and parameters: {'mod__n_estimators': 95, 'mod__learning_rate': 0.16699275808092548, 'mod__max_depth': 3, 'mod__gamma': 0.18567752357941636, 'mod__subsample': 0.8423528784589865}. Best is trial 14 with value: 36050.545636335264.\n",
            "[I 2024-06-04 00:15:16,523] Trial 30 finished with value: 45302.39591043997 and parameters: {'mod__n_estimators': 129, 'mod__learning_rate': 0.17546482721397783, 'mod__max_depth': 8, 'mod__gamma': 0.18879090643264584, 'mod__subsample': 0.8473771833657715}. Best is trial 14 with value: 36050.545636335264.\n",
            "[I 2024-06-04 00:15:16,613] Trial 31 finished with value: 40957.64141153268 and parameters: {'mod__n_estimators': 96, 'mod__learning_rate': 0.1629200235588568, 'mod__max_depth': 3, 'mod__gamma': 0.21139375420287318, 'mod__subsample': 0.8389603036297424}. Best is trial 14 with value: 36050.545636335264.\n",
            "[I 2024-06-04 00:15:16,699] Trial 32 finished with value: 39406.859746143644 and parameters: {'mod__n_estimators': 83, 'mod__learning_rate': 0.12893873797610184, 'mod__max_depth': 3, 'mod__gamma': 0.2657740994651572, 'mod__subsample': 0.9029358226389617}. Best is trial 14 with value: 36050.545636335264.\n",
            "[I 2024-06-04 00:15:16,787] Trial 33 finished with value: 36821.92038896663 and parameters: {'mod__n_estimators': 72, 'mod__learning_rate': 0.1369805010686253, 'mod__max_depth': 3, 'mod__gamma': 0.17938007433309122, 'mod__subsample': 0.8276421508782629}. Best is trial 14 with value: 36050.545636335264.\n",
            "[I 2024-06-04 00:15:16,893] Trial 34 finished with value: 41071.43842851657 and parameters: {'mod__n_estimators': 153, 'mod__learning_rate': 0.13865916239851794, 'mod__max_depth': 3, 'mod__gamma': 0.1779051663731417, 'mod__subsample': 0.8299392252943484}. Best is trial 14 with value: 36050.545636335264.\n",
            "[I 2024-06-04 00:15:16,984] Trial 35 finished with value: 39211.63005886586 and parameters: {'mod__n_estimators': 106, 'mod__learning_rate': 0.14648877870082638, 'mod__max_depth': 3, 'mod__gamma': 0.14217463190216126, 'mod__subsample': 0.80189021427691}. Best is trial 14 with value: 36050.545636335264.\n",
            "[I 2024-06-04 00:15:17,073] Trial 36 finished with value: 39495.67555232611 and parameters: {'mod__n_estimators': 81, 'mod__learning_rate': 0.1833327416443608, 'mod__max_depth': 3, 'mod__gamma': 0.2323280022386701, 'mod__subsample': 0.8641558324916372}. Best is trial 14 with value: 36050.545636335264.\n",
            "[I 2024-06-04 00:15:17,169] Trial 37 finished with value: 41115.04064664414 and parameters: {'mod__n_estimators': 52, 'mod__learning_rate': 0.16694459736262393, 'mod__max_depth': 5, 'mod__gamma': 0.18353243275649367, 'mod__subsample': 0.9839631349125434}. Best is trial 14 with value: 36050.545636335264.\n",
            "[I 2024-06-04 00:15:17,292] Trial 38 finished with value: 43294.33754219866 and parameters: {'mod__n_estimators': 115, 'mod__learning_rate': 0.15324596475874083, 'mod__max_depth': 4, 'mod__gamma': 0.20807630770467303, 'mod__subsample': 0.8330000528252672}. Best is trial 14 with value: 36050.545636335264.\n",
            "[I 2024-06-04 00:15:17,499] Trial 39 finished with value: 43566.61030224541 and parameters: {'mod__n_estimators': 95, 'mod__learning_rate': 0.14193794709418062, 'mod__max_depth': 7, 'mod__gamma': 0.15525167254900962, 'mod__subsample': 0.8523569851725411}. Best is trial 14 with value: 36050.545636335264.\n",
            "[I 2024-06-04 00:15:17,581] Trial 40 finished with value: 38120.28287235887 and parameters: {'mod__n_estimators': 61, 'mod__learning_rate': 0.17012571510021368, 'mod__max_depth': 3, 'mod__gamma': 0.25836218587946547, 'mod__subsample': 0.8028705280397185}. Best is trial 14 with value: 36050.545636335264.\n",
            "[I 2024-06-04 00:15:17,669] Trial 41 finished with value: 37821.20335513094 and parameters: {'mod__n_estimators': 61, 'mod__learning_rate': 0.17076645105778337, 'mod__max_depth': 3, 'mod__gamma': 0.25312733090838624, 'mod__subsample': 0.8156501074055615}. Best is trial 14 with value: 36050.545636335264.\n",
            "[I 2024-06-04 00:15:17,746] Trial 42 finished with value: 37628.392438933755 and parameters: {'mod__n_estimators': 60, 'mod__learning_rate': 0.18488989224164232, 'mod__max_depth': 3, 'mod__gamma': 0.2556823201254364, 'mod__subsample': 0.8043388742904621}. Best is trial 14 with value: 36050.545636335264.\n",
            "[I 2024-06-04 00:15:17,825] Trial 43 finished with value: 37645.11628506412 and parameters: {'mod__n_estimators': 51, 'mod__learning_rate': 0.18429922562707937, 'mod__max_depth': 3, 'mod__gamma': 0.2827189668047676, 'mod__subsample': 0.8172265359337559}. Best is trial 14 with value: 36050.545636335264.\n",
            "[I 2024-06-04 00:15:17,900] Trial 44 finished with value: 38494.532254639395 and parameters: {'mod__n_estimators': 50, 'mod__learning_rate': 0.18652030581186374, 'mod__max_depth': 3, 'mod__gamma': 0.2818132771956988, 'mod__subsample': 0.8252011737980962}. Best is trial 14 with value: 36050.545636335264.\n",
            "[I 2024-06-04 00:15:17,992] Trial 45 finished with value: 44244.97439304758 and parameters: {'mod__n_estimators': 72, 'mod__learning_rate': 0.1968129563260057, 'mod__max_depth': 4, 'mod__gamma': 0.2375799305765787, 'mod__subsample': 0.8129149877241056}. Best is trial 14 with value: 36050.545636335264.\n",
            "[I 2024-06-04 00:15:18,069] Trial 46 finished with value: 38049.67427890551 and parameters: {'mod__n_estimators': 57, 'mod__learning_rate': 0.18583802304896957, 'mod__max_depth': 3, 'mod__gamma': 0.27025109932549796, 'mod__subsample': 0.806501482664727}. Best is trial 14 with value: 36050.545636335264.\n",
            "[I 2024-06-04 00:15:18,171] Trial 47 finished with value: 43116.54165346304 and parameters: {'mod__n_estimators': 65, 'mod__learning_rate': 0.17854348903841058, 'mod__max_depth': 4, 'mod__gamma': 0.27855524826587247, 'mod__subsample': 0.8204844247324596}. Best is trial 14 with value: 36050.545636335264.\n",
            "[I 2024-06-04 00:15:18,470] Trial 48 finished with value: 41877.99959572974 and parameters: {'mod__n_estimators': 169, 'mod__learning_rate': 0.09130787050940624, 'mod__max_depth': 7, 'mod__gamma': 0.23667151418688637, 'mod__subsample': 0.8654593397839138}. Best is trial 14 with value: 36050.545636335264.\n",
            "[I 2024-06-04 00:15:18,554] Trial 49 finished with value: 39941.75454095097 and parameters: {'mod__n_estimators': 76, 'mod__learning_rate': 0.1923820834488813, 'mod__max_depth': 3, 'mod__gamma': 0.28690972750807103, 'mod__subsample': 0.9479478430325702}. Best is trial 14 with value: 36050.545636335264.\n"
          ]
        },
        {
          "output_type": "stream",
          "name": "stdout",
          "text": [
            "Лучшие параметры:  {'mod__n_estimators': 75, 'mod__learning_rate': 0.10193641704890044, 'mod__max_depth': 3, 'mod__gamma': 0.2416411504813782, 'mod__subsample': 0.9038444113898828}\n"
          ]
        }
      ],
      "source": [
        "def objective(trial):\n",
        "    params = {\n",
        "        'mod__n_estimators': trial.suggest_int('mod__n_estimators', 50, 200),\n",
        "        'mod__learning_rate': trial.suggest_float('mod__learning_rate', 0.01, 0.2),\n",
        "        'mod__max_depth': trial.suggest_int('mod__max_depth', 3, 8),\n",
        "        'mod__gamma': trial.suggest_float('mod__gamma', 0, 0.3),\n",
        "        'mod__subsample': trial.suggest_float('mod__subsample', 0.8, 1.0)\n",
        "    }\n",
        "\n",
        "    pipeline.set_params(**params)\n",
        "    pipeline.fit(X_train, y_train)\n",
        "    predict = pipeline.predict(X_test)\n",
        "    mean_se = mean_squared_error(y_test, predict)\n",
        "\n",
        "    return mean_se\n",
        "\n",
        "study = optuna.create_study(direction='minimize')\n",
        "study.optimize(objective, n_trials=50)\n",
        "\n",
        "bestTrial = study.best_trial\n",
        "bestParams = bestTrial.params\n",
        "\n",
        "print(\"Лучшие параметры: \", bestParams)"
      ]
    },
    {
      "cell_type": "code",
      "execution_count": 22,
      "metadata": {
        "colab": {
          "base_uri": "https://localhost:8080/"
        },
        "id": "b7slk1IFmRmb",
        "outputId": "8e96cfdc-9e6e-4a7f-f83f-62b1344f9694"
      },
      "outputs": [
        {
          "output_type": "stream",
          "name": "stdout",
          "text": [
            "Mean Squared Error: 36050.545636335264\n"
          ]
        }
      ],
      "source": [
        "pipeline.set_params(**bestParams)\n",
        "pipeline.fit(X_train, y_train)\n",
        "predict = pipeline.predict(X_test)\n",
        "mean_se = mean_squared_error(y_test, predict)\n",
        "\n",
        "print(f\"Mean Squared Error: {mean_se}\")"
      ]
    },
    {
      "cell_type": "code",
      "execution_count": 24,
      "metadata": {
        "colab": {
          "base_uri": "https://localhost:8080/"
        },
        "id": "O0FCNGbXmS55",
        "outputId": "6788fa2a-f21c-49b9-df8f-21caae59e360"
      },
      "outputs": [
        {
          "output_type": "stream",
          "name": "stderr",
          "text": [
            "/usr/local/lib/python3.10/dist-packages/_distutils_hack/__init__.py:33: UserWarning: Setuptools is replacing distutils.\n",
            "  warnings.warn(\"Setuptools is replacing distutils.\")\n"
          ]
        }
      ],
      "source": [
        "mlflow.set_experiment(\"Optuna optimize\")\n",
        "\n",
        "with mlflow.start_run():\n",
        "    mlflow.log_params(bestParams)\n",
        "    mlflow.log_metric(\"mean_se\", mean_se)\n",
        "    mlflow.sklearn.log_model(pipeline, \"mod\")"
      ]
    }
  ],
  "metadata": {
    "colab": {
      "provenance": []
    },
    "kernelspec": {
      "display_name": "Python 3",
      "name": "python3"
    },
    "language_info": {
      "name": "python"
    }
  },
  "nbformat": 4,
  "nbformat_minor": 0
}