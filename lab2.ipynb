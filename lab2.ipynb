{
  "cells": [
    {
      "cell_type": "code",
      "execution_count": 18,
      "metadata": {
        "id": "SGFQgiFOlkTp"
      },
      "outputs": [],
      "source": [
        "import pandas as pd\n",
        "from sklearn.model_selection import train_test_split, GridSearchCV\n",
        "from sklearn.compose import ColumnTransformer\n",
        "from sklearn.pipeline import Pipeline\n",
        "from sklearn.impute import SimpleImputer\n",
        "from sklearn.preprocessing import StandardScaler, OneHotEncoder\n",
        "from xgboost import XGBRegressor"
      ]
    },
    {
      "cell_type": "code",
      "execution_count": null,
      "metadata": {
        "colab": {
          "base_uri": "https://localhost:8080/"
        },
        "id": "SyR8E0lOlvmA",
        "outputId": "c08c2660-6213-40fa-9c0f-d4651f43be46"
      },
      "outputs": [],
      "source": [
        "from google.colab import drive\n",
        "drive.mount('/content/drive/')"
      ]
    },
    {
      "cell_type": "code",
      "execution_count": null,
      "metadata": {
        "colab": {
          "base_uri": "https://localhost:8080/"
        },
        "id": "dSe2V5Zfl-iK",
        "outputId": "2abc13d0-a3cf-4b3f-c96d-89b1f399147b"
      },
      "outputs": [],
      "source": [
        "%cd /content/drive/MyDrive\n",
        "df = pd.read_csv('/content/drive/MyDrive/Laptop_price.csv')"
      ]
    },
    {
      "cell_type": "code",
      "execution_count": 21,
      "metadata": {
        "id": "jJyH4XdKmGPR"
      },
      "outputs": [],
      "source": [
        "# Разделение на целевой столбец и признаки\n",
        "X = df.drop('Price', axis=1)\n",
        "y = df['Price']"
      ]
    },
    {
      "cell_type": "code",
      "execution_count": 22,
      "metadata": {
        "id": "qkmUoeJpmHye"
      },
      "outputs": [],
      "source": [
        "# Деление на тренировочный и тестовый наборы\n",
        "X_train, X_test, y_train, y_test = train_test_split(X, y, test_size=0.2, random_state=42)"
      ]
    },
    {
      "cell_type": "code",
      "execution_count": 23,
      "metadata": {
        "id": "TVWm0H1GmI0m"
      },
      "outputs": [],
      "source": [
        "# Определение категориальных и количественных признаков\n",
        "categoricalFeatures = X.select_dtypes(include=['object']).columns.tolist()\n",
        "numericalFeatures = X.select_dtypes(include=['int64', 'float64']).columns.tolist()"
      ]
    },
    {
      "cell_type": "code",
      "execution_count": 24,
      "metadata": {
        "id": "pKRBLrCqmKl7"
      },
      "outputs": [],
      "source": [
        "numericalTransformer = Pipeline(steps=[\n",
        "    ('imputer', SimpleImputer(strategy='mean')),\n",
        "    ('scaler', StandardScaler())\n",
        "])\n",
        "\n",
        "categoricalTransformer = Pipeline(steps=[\n",
        "    ('imputer', SimpleImputer(strategy='most_frequent')),\n",
        "    ('onehot', OneHotEncoder(handle_unknown='ignore'))\n",
        "])"
      ]
    },
    {
      "cell_type": "code",
      "execution_count": 25,
      "metadata": {
        "id": "EIVSamFkmNsF"
      },
      "outputs": [],
      "source": [
        "preprocessor = ColumnTransformer(\n",
        "    transformers=[\n",
        "        ('num', numericalTransformer, numericalFeatures),\n",
        "        ('cat', categoricalTransformer, categoricalFeatures)\n",
        "    ])"
      ]
    },
    {
      "cell_type": "code",
      "execution_count": 26,
      "metadata": {
        "id": "TFsUoePPmOln"
      },
      "outputs": [],
      "source": [
        "pipeline = Pipeline(steps=[\n",
        "    ('preprocessor', preprocessor),\n",
        "    ('model', XGBRegressor(random_state=42))\n",
        "])"
      ]
    },
    {
      "cell_type": "code",
      "execution_count": 27,
      "metadata": {
        "id": "kdVgnuLCmPgF"
      },
      "outputs": [],
      "source": [
        "# Задание сетки гиперпараметров для GridSearchCV\n",
        "param = {\n",
        "    'model__n_estimators': [50, 100, 200],\n",
        "    'model__learning_rate': [0.01, 0.1, 0.2],\n",
        "    'model__max_depth': [3, 5, 7],\n",
        "    'model__gamma': [0, 0.1, 0.2],\n",
        "    'model__subsample': [0.8, 1.0]  \n",
        "}"
      ]
    },
    {
      "cell_type": "code",
      "execution_count": 28,
      "metadata": {
        "id": "T3leupJ8mQnf"
      },
      "outputs": [],
      "source": [
        "gridSearch = GridSearchCV(pipeline, param, cv=5, n_jobs=-1, verbose=2)"
      ]
    },
    {
      "cell_type": "code",
      "execution_count": null,
      "metadata": {
        "colab": {
          "base_uri": "https://localhost:8080/",
          "height": 273
        },
        "id": "b7slk1IFmRmb",
        "outputId": "c400380c-da04-464f-cfbb-117921e95c32"
      },
      "outputs": [],
      "source": [
        "gridSearch.fit(X_train, y_train)"
      ]
    },
    {
      "cell_type": "code",
      "execution_count": 30,
      "metadata": {
        "id": "O0FCNGbXmS55"
      },
      "outputs": [],
      "source": [
        "model = gridSearch.best_estimator_\n",
        "bestParams = gridSearch.best_params_"
      ]
    },
    {
      "cell_type": "code",
      "execution_count": null,
      "metadata": {
        "colab": {
          "base_uri": "https://localhost:8080/"
        },
        "id": "RPFzRnZ7mTrk",
        "outputId": "0c7728fe-e5be-4e89-80f0-a63a463f4740"
      },
      "outputs": [],
      "source": [
        "print(\"Лучшие параметры: \", bestParams)"
      ]
    }
  ],
  "metadata": {
    "colab": {
      "provenance": []
    },
    "kernelspec": {
      "display_name": "Python 3",
      "name": "python3"
    },
    "language_info": {
      "name": "python"
    }
  },
  "nbformat": 4,
  "nbformat_minor": 0
}
