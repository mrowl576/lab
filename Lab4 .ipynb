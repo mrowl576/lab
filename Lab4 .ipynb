{
  "cells": [
    {
      "cell_type": "code",
      "source": [
        "!pip install pyspark"
      ],
      "metadata": {
        "colab": {
          "base_uri": "https://localhost:8080/"
        },
        "id": "7ls0Oy2Eo1dC",
        "outputId": "69f33909-1862-4bc3-98bd-c7f44e64007a"
      },
      "execution_count": 3,
      "outputs": [
        {
          "output_type": "stream",
          "name": "stdout",
          "text": [
            "Collecting pyspark\n",
            "  Downloading pyspark-3.5.1.tar.gz (317.0 MB)\n",
            "\u001b[2K     \u001b[90m━━━━━━━━━━━━━━━━━━━━━━━━━━━━━━━━━━━━━━━━\u001b[0m \u001b[32m317.0/317.0 MB\u001b[0m \u001b[31m3.8 MB/s\u001b[0m eta \u001b[36m0:00:00\u001b[0m\n",
            "\u001b[?25h  Preparing metadata (setup.py) ... \u001b[?25l\u001b[?25hdone\n",
            "Requirement already satisfied: py4j==0.10.9.7 in /usr/local/lib/python3.10/dist-packages (from pyspark) (0.10.9.7)\n",
            "Building wheels for collected packages: pyspark\n",
            "  Building wheel for pyspark (setup.py) ... \u001b[?25l\u001b[?25hdone\n",
            "  Created wheel for pyspark: filename=pyspark-3.5.1-py2.py3-none-any.whl size=317488491 sha256=f1c7afe65ae2b77ae6f2f50f9c6d936c5ce490c5709cf23d1f05ba3e03e41805\n",
            "  Stored in directory: /root/.cache/pip/wheels/80/1d/60/2c256ed38dddce2fdd93be545214a63e02fbd8d74fb0b7f3a6\n",
            "Successfully built pyspark\n",
            "Installing collected packages: pyspark\n",
            "Successfully installed pyspark-3.5.1\n"
          ]
        }
      ]
    },
    {
      "cell_type": "code",
      "execution_count": 22,
      "metadata": {
        "id": "qVL58GAJZi_4"
      },
      "outputs": [],
      "source": [
        "from pyspark.sql import SparkSession\n",
        "from pyspark.sql.functions import hour, avg, col"
      ]
    },
    {
      "cell_type": "code",
      "execution_count": 23,
      "metadata": {
        "colab": {
          "base_uri": "https://localhost:8080/"
        },
        "id": "bC-xZmJEZ8Yn",
        "outputId": "c7e5f4f4-3ebe-4c4f-ec27-2ad2e95a107b"
      },
      "outputs": [
        {
          "output_type": "stream",
          "name": "stdout",
          "text": [
            "Drive already mounted at /content/drive/; to attempt to forcibly remount, call drive.mount(\"/content/drive/\", force_remount=True).\n"
          ]
        }
      ],
      "source": [
        "from google.colab import drive\n",
        "drive.mount('/content/drive/')"
      ]
    },
    {
      "cell_type": "code",
      "execution_count": 24,
      "metadata": {
        "id": "a2sIhzydZ3rL"
      },
      "outputs": [],
      "source": [
        "spark = SparkSession.builder.appName(\"TaxiOrderAnalysis\").getOrCreate()"
      ]
    },
    {
      "cell_type": "code",
      "source": [
        "%cd /content/drive/MyDrive\n",
        "df = spark.read.csv('/content/drive/MyDrive/taxi.csv', header=True, inferSchema=True)"
      ],
      "metadata": {
        "colab": {
          "base_uri": "https://localhost:8080/"
        },
        "id": "cxTlg5HuomT0",
        "outputId": "06e3f52c-0fdf-4b6e-a10a-5deecede6949"
      },
      "execution_count": 25,
      "outputs": [
        {
          "output_type": "stream",
          "name": "stdout",
          "text": [
            "/content/drive/MyDrive\n"
          ]
        }
      ]
    },
    {
      "cell_type": "code",
      "execution_count": 26,
      "metadata": {
        "id": "UJeSYWBtZ3lv"
      },
      "outputs": [],
      "source": [
        "average = df.groupBy('Hour').agg(avg('pickups').alias('Average'))"
      ]
    },
    {
      "cell_type": "code",
      "execution_count": 27,
      "metadata": {
        "id": "t61YTTwXZ3iF"
      },
      "outputs": [],
      "source": [
        "sortedOrders = average.orderBy(col('Average').desc())"
      ]
    },
    {
      "cell_type": "code",
      "execution_count": 28,
      "metadata": {
        "colab": {
          "base_uri": "https://localhost:8080/"
        },
        "id": "6pdUrS2iZ3PF",
        "outputId": "77ebdc52-f07d-4e5e-cefd-9e708a7547fd"
      },
      "outputs": [
        {
          "output_type": "stream",
          "name": "stdout",
          "text": [
            "+----+------------------+\n",
            "|Hour|           Average|\n",
            "+----+------------------+\n",
            "|   8| 48.98208348725527|\n",
            "|   9| 45.74220335855324|\n",
            "|  18|45.131967515688444|\n",
            "|  19| 40.18456995201181|\n",
            "|  17| 37.68493909191584|\n",
            "|  12| 36.91678966789668|\n",
            "|  10|36.391031555637575|\n",
            "|  14|35.965867158671585|\n",
            "|   7| 35.94376618571957|\n",
            "|  13| 35.34939091915836|\n",
            "+----+------------------+\n",
            "\n"
          ]
        }
      ],
      "source": [
        "top = sortedOrders.limit(10)\n",
        "top.show()\n",
        "\n",
        "spark.stop()"
      ]
    }
  ],
  "metadata": {
    "colab": {
      "provenance": []
    },
    "kernelspec": {
      "display_name": "Python 3",
      "name": "python3"
    },
    "language_info": {
      "name": "python"
    }
  },
  "nbformat": 4,
  "nbformat_minor": 0
}